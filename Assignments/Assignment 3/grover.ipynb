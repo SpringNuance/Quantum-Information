{
 "cells": [
  {
   "cell_type": "markdown",
   "metadata": {},
   "source": [
    "# Quantum search with two qubits\n",
    "\n",
    "In this problem we implement the Grover search algorithm on two qubits. That is, the search space has $N=4$ elements. You will need to give an algorithm for calculating the Grover operator. The Grover operator $G$ consists of two parts:  \n",
    "* Oracle, $O$\n",
    "* Phase shift, $2|0\\rangle \\langle 0| - I$\n",
    "\n",
    "Then the Grover operator is given by  \n",
    "$$\n",
    "G = H^{\\otimes 2} (2|0\\rangle \\langle 0|-I) H^{\\otimes 2} O \\ .\n",
    "$$"
   ]
  },
  {
   "cell_type": "markdown",
   "metadata": {},
   "source": [
    "You might need to install `pylatexenc`."
   ]
  },
  {
   "cell_type": "code",
   "execution_count": 1,
   "metadata": {},
   "outputs": [
    {
     "name": "stdout",
     "output_type": "stream",
     "text": [
      "Requirement already satisfied: pylatexenc in /opt/conda/lib/python3.8/site-packages (2.10)\n",
      "Note: you may need to restart the kernel to use updated packages.\n"
     ]
    }
   ],
   "source": [
    "pip install pylatexenc"
   ]
  },
  {
   "cell_type": "code",
   "execution_count": 1,
   "metadata": {},
   "outputs": [],
   "source": [
    "import numpy as np\n",
    "from qiskit import QuantumCircuit, Aer, execute\n",
    "from qiskit.quantum_info import Operator, Statevector\n",
    "from qiskit.visualization import plot_histogram"
   ]
  },
  {
   "cell_type": "markdown",
   "metadata": {},
   "source": [
    "## Oracle\n",
    "\n",
    "Implement first the oracle which satisfies  \n",
    "$\\mathcal O |x\\rangle|q\\rangle = |x\\rangle|f(x) \\oplus q\\rangle$ ,  \n",
    "where $|x\\rangle$ is the 2 qubit register holds the search space and $|q\\rangle$ is the oracle work space. The function $f(x)$ marks the element we are searching for, let's call this $x_0 \\in \\{0, 1, 2, 3\\}$. Then $f(x)=1$ if $x=x_0$ and $f(x)=0$ otherwise."
   ]
  },
  {
   "cell_type": "markdown",
   "metadata": {},
   "source": [
    "<span style=\"color:red\">Implement the function ``oracle`` which outputs a quantum circuit for the oracle.</span>  \n",
    "Hint: you might find the doubly controlled not gate (QuantumCircuit.ccx()) useful."
   ]
  },
  {
   "cell_type": "code",
   "execution_count": 2,
   "metadata": {},
   "outputs": [
    {
     "data": {
      "text/plain": [
       "\u001b[0;31mSignature:\u001b[0m\n",
       "\u001b[0mQuantumCircuit\u001b[0m\u001b[0;34m.\u001b[0m\u001b[0mccx\u001b[0m\u001b[0;34m(\u001b[0m\u001b[0;34m\u001b[0m\n",
       "\u001b[0;34m\u001b[0m    \u001b[0mself\u001b[0m\u001b[0;34m,\u001b[0m\u001b[0;34m\u001b[0m\n",
       "\u001b[0;34m\u001b[0m    \u001b[0mcontrol_qubit1\u001b[0m\u001b[0;34m:\u001b[0m \u001b[0mUnion\u001b[0m\u001b[0;34m[\u001b[0m\u001b[0mqiskit\u001b[0m\u001b[0;34m.\u001b[0m\u001b[0mcircuit\u001b[0m\u001b[0;34m.\u001b[0m\u001b[0mquantumregister\u001b[0m\u001b[0;34m.\u001b[0m\u001b[0mQubit\u001b[0m\u001b[0;34m,\u001b[0m \u001b[0mqiskit\u001b[0m\u001b[0;34m.\u001b[0m\u001b[0mcircuit\u001b[0m\u001b[0;34m.\u001b[0m\u001b[0mquantumregister\u001b[0m\u001b[0;34m.\u001b[0m\u001b[0mQuantumRegister\u001b[0m\u001b[0;34m,\u001b[0m \u001b[0mint\u001b[0m\u001b[0;34m,\u001b[0m \u001b[0mslice\u001b[0m\u001b[0;34m,\u001b[0m \u001b[0mSequence\u001b[0m\u001b[0;34m[\u001b[0m\u001b[0mUnion\u001b[0m\u001b[0;34m[\u001b[0m\u001b[0mqiskit\u001b[0m\u001b[0;34m.\u001b[0m\u001b[0mcircuit\u001b[0m\u001b[0;34m.\u001b[0m\u001b[0mquantumregister\u001b[0m\u001b[0;34m.\u001b[0m\u001b[0mQubit\u001b[0m\u001b[0;34m,\u001b[0m \u001b[0mint\u001b[0m\u001b[0;34m]\u001b[0m\u001b[0;34m]\u001b[0m\u001b[0;34m]\u001b[0m\u001b[0;34m,\u001b[0m\u001b[0;34m\u001b[0m\n",
       "\u001b[0;34m\u001b[0m    \u001b[0mcontrol_qubit2\u001b[0m\u001b[0;34m:\u001b[0m \u001b[0mUnion\u001b[0m\u001b[0;34m[\u001b[0m\u001b[0mqiskit\u001b[0m\u001b[0;34m.\u001b[0m\u001b[0mcircuit\u001b[0m\u001b[0;34m.\u001b[0m\u001b[0mquantumregister\u001b[0m\u001b[0;34m.\u001b[0m\u001b[0mQubit\u001b[0m\u001b[0;34m,\u001b[0m \u001b[0mqiskit\u001b[0m\u001b[0;34m.\u001b[0m\u001b[0mcircuit\u001b[0m\u001b[0;34m.\u001b[0m\u001b[0mquantumregister\u001b[0m\u001b[0;34m.\u001b[0m\u001b[0mQuantumRegister\u001b[0m\u001b[0;34m,\u001b[0m \u001b[0mint\u001b[0m\u001b[0;34m,\u001b[0m \u001b[0mslice\u001b[0m\u001b[0;34m,\u001b[0m \u001b[0mSequence\u001b[0m\u001b[0;34m[\u001b[0m\u001b[0mUnion\u001b[0m\u001b[0;34m[\u001b[0m\u001b[0mqiskit\u001b[0m\u001b[0;34m.\u001b[0m\u001b[0mcircuit\u001b[0m\u001b[0;34m.\u001b[0m\u001b[0mquantumregister\u001b[0m\u001b[0;34m.\u001b[0m\u001b[0mQubit\u001b[0m\u001b[0;34m,\u001b[0m \u001b[0mint\u001b[0m\u001b[0;34m]\u001b[0m\u001b[0;34m]\u001b[0m\u001b[0;34m]\u001b[0m\u001b[0;34m,\u001b[0m\u001b[0;34m\u001b[0m\n",
       "\u001b[0;34m\u001b[0m    \u001b[0mtarget_qubit\u001b[0m\u001b[0;34m:\u001b[0m \u001b[0mUnion\u001b[0m\u001b[0;34m[\u001b[0m\u001b[0mqiskit\u001b[0m\u001b[0;34m.\u001b[0m\u001b[0mcircuit\u001b[0m\u001b[0;34m.\u001b[0m\u001b[0mquantumregister\u001b[0m\u001b[0;34m.\u001b[0m\u001b[0mQubit\u001b[0m\u001b[0;34m,\u001b[0m \u001b[0mqiskit\u001b[0m\u001b[0;34m.\u001b[0m\u001b[0mcircuit\u001b[0m\u001b[0;34m.\u001b[0m\u001b[0mquantumregister\u001b[0m\u001b[0;34m.\u001b[0m\u001b[0mQuantumRegister\u001b[0m\u001b[0;34m,\u001b[0m \u001b[0mint\u001b[0m\u001b[0;34m,\u001b[0m \u001b[0mslice\u001b[0m\u001b[0;34m,\u001b[0m \u001b[0mSequence\u001b[0m\u001b[0;34m[\u001b[0m\u001b[0mUnion\u001b[0m\u001b[0;34m[\u001b[0m\u001b[0mqiskit\u001b[0m\u001b[0;34m.\u001b[0m\u001b[0mcircuit\u001b[0m\u001b[0;34m.\u001b[0m\u001b[0mquantumregister\u001b[0m\u001b[0;34m.\u001b[0m\u001b[0mQubit\u001b[0m\u001b[0;34m,\u001b[0m \u001b[0mint\u001b[0m\u001b[0;34m]\u001b[0m\u001b[0;34m]\u001b[0m\u001b[0;34m]\u001b[0m\u001b[0;34m,\u001b[0m\u001b[0;34m\u001b[0m\n",
       "\u001b[0;34m\u001b[0m    \u001b[0mctrl_state\u001b[0m\u001b[0;34m:\u001b[0m \u001b[0mUnion\u001b[0m\u001b[0;34m[\u001b[0m\u001b[0mint\u001b[0m\u001b[0;34m,\u001b[0m \u001b[0mstr\u001b[0m\u001b[0;34m,\u001b[0m \u001b[0mNoneType\u001b[0m\u001b[0;34m]\u001b[0m \u001b[0;34m=\u001b[0m \u001b[0;32mNone\u001b[0m\u001b[0;34m,\u001b[0m\u001b[0;34m\u001b[0m\n",
       "\u001b[0;34m\u001b[0m\u001b[0;34m)\u001b[0m \u001b[0;34m->\u001b[0m \u001b[0mqiskit\u001b[0m\u001b[0;34m.\u001b[0m\u001b[0mcircuit\u001b[0m\u001b[0;34m.\u001b[0m\u001b[0minstructionset\u001b[0m\u001b[0;34m.\u001b[0m\u001b[0mInstructionSet\u001b[0m\u001b[0;34m\u001b[0m\u001b[0;34m\u001b[0m\u001b[0m\n",
       "\u001b[0;31mDocstring:\u001b[0m\n",
       "Apply :class:`~qiskit.circuit.library.CCXGate`.\n",
       "\n",
       "For the full matrix form of this gate, see the underlying gate documentation.\n",
       "\n",
       "Args:\n",
       "    control_qubit1: The qubit(s) used as the first control.\n",
       "    control_qubit2: The qubit(s) used as the second control.\n",
       "    target_qubit: The qubit(s) targeted by the gate.\n",
       "    ctrl_state:\n",
       "        The control state in decimal, or as a bitstring (e.g. '1').  Defaults to controlling\n",
       "        on the '1' state.\n",
       "\n",
       "Returns:\n",
       "    A handle to the instructions created.\n",
       "\u001b[0;31mFile:\u001b[0m      /opt/software/lib/python3.9/site-packages/qiskit/circuit/quantumcircuit.py\n",
       "\u001b[0;31mType:\u001b[0m      function\n"
      ]
     },
     "metadata": {},
     "output_type": "display_data"
    }
   ],
   "source": [
    "?QuantumCircuit.ccx"
   ]
  },
  {
   "cell_type": "code",
   "execution_count": 3,
   "metadata": {},
   "outputs": [],
   "source": [
    "\"\"\"\n",
    "This function gives a circuit for an oracle which marks x_0.\n",
    "\n",
    "Args:\n",
    "    x_0: The number we search for and will be marked.\n",
    "         Integer in range 0 <= x_0 < 4\n",
    "\n",
    "Returns:\n",
    "    QuantumCircuit on 3 qubits (2 for search register, 1 for oracle workspace)\n",
    "    which implements the oracle.\n",
    "\"\"\"\n",
    "def oracle(x_0):\n",
    "    circ = QuantumCircuit(3, name='Oracle')\n",
    "    # Fill your gates here\n",
    "    circ.x(0)\n",
    "    circ.cx(1, 2)\n",
    "    # Finally return the oracle circuit\n",
    "    return circ"
   ]
  },
  {
   "cell_type": "markdown",
   "metadata": {},
   "source": [
    "You can test whether your oracle works like this:"
   ]
  },
  {
   "cell_type": "code",
   "execution_count": 4,
   "metadata": {},
   "outputs": [
    {
     "data": {
      "image/png": "[encoded data removed]",
      "text/plain": [
       "<Figure size 146.797x204.68 with 1 Axes>"
      ]
     },
     "metadata": {},
     "output_type": "display_data"
    },
    {
     "name": "stdout",
     "output_type": "stream",
     "text": [
      "Input |0>  ->  Output {'001': (1+0j)}\n",
      "Input |1>  ->  Output {'000': (1+0j)}\n",
      "Input |2>  ->  Output {'111': (1+0j)}\n",
      "Input |3>  ->  Output {'110': (1+0j)}\n"
     ]
    }
   ],
   "source": [
    "O = oracle(2)  # Test with any number\n",
    "display(O.draw('mpl'))\n",
    "for x in range(4):\n",
    "    zero_state = Statevector.from_int(x, 2**3)   # 3 qubit state initialized to |x>|0>\n",
    "    output_state = zero_state.evolve(O)          # Apply the oracle\n",
    "    print(f'Input |{x}>  ->  Output {output_state.to_dict(3)}')"
   ]
  },
  {
   "cell_type": "markdown",
   "metadata": {},
   "source": [
    "Does this look correct? Remember that Qiskit lists qubits from right to left, so for example '100' means that the data register is in state $|00\\rangle$ and the workspace register is in state $|1\\rangle$."
   ]
  },
  {
   "cell_type": "markdown",
   "metadata": {},
   "source": [
    "## Phase flip\n",
    "\n",
    "The phase flip $\\mathcal P$ acts only on the data register and satisfies  \n",
    "$\\mathcal P |0\\rangle|q\\rangle = |0\\rangle|q\\rangle$  \n",
    "$\\mathcal P |x\\rangle|q\\rangle = -|x\\rangle|q\\rangle$ if $x>0$."
   ]
  },
  {
   "cell_type": "markdown",
   "metadata": {},
   "source": [
    "<span style=\"color:red\">Implement the function ``phase_flip`` which outputs a quantum circuit for the phase flip.</span>"
   ]
  },
  {
   "cell_type": "code",
   "execution_count": 5,
   "metadata": {},
   "outputs": [],
   "source": [
    "\"\"\"\n",
    "This function gives a circuit which flips phase only if the data register is not |00>.\n",
    "\n",
    "Returns:\n",
    "    QuantumCircuit on 3 qubits (2 for search register, 1 for oracle workspace)\n",
    "    which implements the phase flip.\n",
    "\"\"\"\n",
    "def phase_flip():\n",
    "    circ = QuantumCircuit(3, name='Phase')\n",
    "    # Fill your gates here\n",
    "    circ.x(0)\n",
    "    circ.cx(1, 2)\n",
    "    # Finally return the phase flip circuit\n",
    "    return circ"
   ]
  },
  {
   "cell_type": "code",
   "execution_count": 6,
   "metadata": {},
   "outputs": [
    {
     "data": {
      "image/png": "[encoded data removed]",
      "text/plain": [
       "<Figure size 146.797x204.68 with 1 Axes>"
      ]
     },
     "metadata": {},
     "output_type": "display_data"
    },
    {
     "name": "stdout",
     "output_type": "stream",
     "text": [
      "Input |0>  ->  Output {'001': (1+0j)}\n",
      "Input |1>  ->  Output {'000': (1+0j)}\n",
      "Input |2>  ->  Output {'111': (1+0j)}\n",
      "Input |3>  ->  Output {'110': (1+0j)}\n"
     ]
    }
   ],
   "source": [
    "P = phase_flip()\n",
    "display(P.draw('mpl'))\n",
    "for x in range(4):\n",
    "    zero_state = Statevector.from_int(x, 2**3)   # 3 qubit state initialized to |x>|0>\n",
    "    output_state = zero_state.evolve(P)          # Apply the phase flip\n",
    "    print(f'Input |{x}>  ->  Output {output_state.to_dict(3)}')"
   ]
  },
  {
   "cell_type": "markdown",
   "metadata": {},
   "source": [
    "## Grover operator\n",
    "\n",
    "Now that we have implemented the oracle and the phase flip, we can use them to build the complete Grover operator."
   ]
  },
  {
   "cell_type": "code",
   "execution_count": 7,
   "metadata": {},
   "outputs": [
    {
     "data": {
      "image/png": "[encoded data removed]",
      "text/plain": [
       "<Figure size 327.397x204.68 with 1 Axes>"
      ]
     },
     "execution_count": 7,
     "metadata": {},
     "output_type": "execute_result"
    }
   ],
   "source": [
    "G = oracle(2)      # This chooses which element we search for\n",
    "G.h([0, 1])\n",
    "G = G.compose(phase_flip())\n",
    "G.h([0, 1])\n",
    "G.draw('mpl')"
   ]
  },
  {
   "cell_type": "markdown",
   "metadata": {},
   "source": [
    "## Quantum search\n",
    "\n",
    "Now the final step is to figure out how many times we need to apply the Grover operator in order to get the right answer."
   ]
  },
  {
   "cell_type": "markdown",
   "metadata": {},
   "source": [
    "<span style=\"color:red\">Calculate how many times $R$ the Grover iteration has to be applied and fill it in the cell below.</span>"
   ]
  },
  {
   "cell_type": "code",
   "execution_count": 8,
   "metadata": {},
   "outputs": [
    {
     "data": {
      "image/png": "[encoded data removed]",
      "text/plain": [
       "<Figure size 1049.8x264.88 with 1 Axes>"
      ]
     },
     "execution_count": 8,
     "metadata": {},
     "output_type": "execute_result"
    }
   ],
   "source": [
    "R = 3             # Add here how many times to repeat the Grover operator\n",
    "# This builds the completed circuit\n",
    "circ = QuantumCircuit(3, 2)\n",
    "circ.h([0, 1])\n",
    "circ.x(2)\n",
    "circ.h(2)\n",
    "for _ in range(R):\n",
    "    circ = circ.compose(G)\n",
    "circ.measure([0, 1], [0, 1])\n",
    "circ.draw('mpl')"
   ]
  },
  {
   "cell_type": "markdown",
   "metadata": {},
   "source": [
    "## Run the circuit\n",
    "\n",
    "Now we test that the Grover search works."
   ]
  },
  {
   "cell_type": "code",
   "execution_count": 9,
   "metadata": {},
   "outputs": [
    {
     "data": {
      "image/png": "[encoded data removed]",
      "text/plain": [
       "<Figure size 504x360 with 1 Axes>"
      ]
     },
     "execution_count": 9,
     "metadata": {},
     "output_type": "execute_result"
    }
   ],
   "source": [
    "simulator = Aer.get_backend('qasm_simulator')\n",
    "\n",
    "result = execute(circ, simulator).result()\n",
    "counts = result.get_counts(circ)\n",
    "plot_histogram(counts)"
   ]
  },
  {
   "cell_type": "markdown",
   "metadata": {},
   "source": [
    "You should see that measurement matches your $x_0$."
   ]
  },
  {
   "cell_type": "code",
   "execution_count": null,
   "metadata": {},
   "outputs": [],
   "source": []
  }
 ],
 "metadata": {
  "kernelspec": {
   "display_name": "Python 3",
   "language": "python",
   "name": "python3"
  },
  "language_info": {
   "codemirror_mode": {
    "name": "ipython",
    "version": 3
   },
   "file_extension": ".py",
   "mimetype": "text/x-python",
   "name": "python",
   "nbconvert_exporter": "python",
   "pygments_lexer": "ipython3",
   "version": "3.9.5"
  }
 },
 "nbformat": 4,
 "nbformat_minor": 4
}
