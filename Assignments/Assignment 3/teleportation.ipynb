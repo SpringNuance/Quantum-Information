{
 "cells": [
  {
   "cell_type": "markdown",
   "metadata": {},
   "source": [
    "# Quantum teleportation\n",
    "\n",
    "In this exercise we implement the quantum teleportation protocol."
   ]
  },
  {
   "cell_type": "markdown",
   "metadata": {},
   "source": [
    "You might need to install `pylatexenc`."
   ]
  },
  {
   "cell_type": "code",
   "execution_count": null,
   "metadata": {},
   "outputs": [],
   "source": [
    "pip install pylatexenc"
   ]
  },
  {
   "cell_type": "code",
   "execution_count": null,
   "metadata": {},
   "outputs": [],
   "source": [
    "import numpy as np\n",
    "from qiskit import QuantumCircuit, Aer, execute, QuantumRegister, ClassicalRegister\n",
    "from qiskit.quantum_info import random_statevector\n",
    "from qiskit.visualization import plot_bloch_multivector"
   ]
  },
  {
   "cell_type": "markdown",
   "metadata": {},
   "source": [
    "We are going to use 3 qubits and 2 classical bits. Here are their registers. "
   ]
  },
  {
   "cell_type": "code",
   "execution_count": null,
   "metadata": {},
   "outputs": [],
   "source": [
    "q_reg = QuantumRegister(3)\n",
    "cx_reg = ClassicalRegister(1)\n",
    "cz_reg = ClassicalRegister(1)"
   ]
  },
  {
   "cell_type": "markdown",
   "metadata": {},
   "source": [
    "Then we have to choose some quantum state which we want to teleport. Let's simply take a random state."
   ]
  },
  {
   "cell_type": "code",
   "execution_count": null,
   "metadata": {},
   "outputs": [],
   "source": [
    "teleport_state = random_statevector(2)\n",
    "print(teleport_state)\n",
    "plot_bloch_multivector(teleport_state)"
   ]
  },
  {
   "cell_type": "markdown",
   "metadata": {},
   "source": [
    "Hint: you might need a way to apply quantum gates conditional on the states of classical bits. Here's an example on how to do it:"
   ]
  },
  {
   "cell_type": "code",
   "execution_count": null,
   "metadata": {},
   "outputs": [],
   "source": [
    "example = QuantumCircuit(q_reg, cx_reg)\n",
    "example.x(0).c_if(cx_reg, 1)\n",
    "example.draw('mpl')"
   ]
  },
  {
   "cell_type": "markdown",
   "metadata": {},
   "source": [
    "This would apply $X$ on the first qubit if the classical register is in state 1."
   ]
  },
  {
   "cell_type": "markdown",
   "metadata": {},
   "source": [
    "Now we build our circuit. <span style=\"color:red\">Fill in the necessary parts in the circuit below.</span>"
   ]
  },
  {
   "cell_type": "code",
   "execution_count": null,
   "metadata": {},
   "outputs": [],
   "source": [
    "circ = QuantumCircuit(q_reg, cx_reg, cz_reg)\n",
    "# Qubit 0 holds the state to teleport\n",
    "circ.initialize(teleport_state.data, 0)\n",
    "# The qubits 1 and 2 need to be in the Bell state (|00>+|11>)/sqrt(2). Add gates which prepare this state.\n",
    "# --- Add your gates here ---\n",
    "\n",
    "# Now the quantum states are prepared. Fill in the rest of the protocol.\n",
    "# --- Add your gates here ---\n",
    "\n",
    "# Your circuit looks like this\n",
    "circ.draw('mpl', plot_barriers=False)"
   ]
  },
  {
   "cell_type": "markdown",
   "metadata": {},
   "source": [
    "We finally run the circuit."
   ]
  },
  {
   "cell_type": "code",
   "execution_count": null,
   "metadata": {},
   "outputs": [],
   "source": [
    "simulator = Aer.get_backend('statevector_simulator')\n",
    "\n",
    "output_state = execute(circ, simulator).result().get_statevector()\n",
    "plot_bloch_multivector(output_state)"
   ]
  },
  {
   "cell_type": "markdown",
   "metadata": {},
   "source": [
    "If the teleportation protocol worked, then the last qubit is in the same state as the original state to teleport and the first two qubits collapse to random computational "
   ]
  },
  {
   "cell_type": "code",
   "execution_count": null,
   "metadata": {},
   "outputs": [],
   "source": []
  }
 ],
 "metadata": {
  "kernelspec": {
   "display_name": "Python 3",
   "language": "python",
   "name": "python3"
  },
  "language_info": {
   "codemirror_mode": {
    "name": "ipython",
    "version": 3
   },
   "file_extension": ".py",
   "mimetype": "text/x-python",
   "name": "python",
   "nbconvert_exporter": "python",
   "pygments_lexer": "ipython3",
   "version": "3.9.4"
  }
 },
 "nbformat": 4,
 "nbformat_minor": 4
}
