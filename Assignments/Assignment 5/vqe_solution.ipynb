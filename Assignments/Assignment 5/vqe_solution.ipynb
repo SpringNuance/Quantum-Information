{
 "cells": [
  {
   "cell_type": "markdown",
   "id": "ec14ff6a-fd01-4ecb-aa2f-9695b317b845",
   "metadata": {},
   "source": [
    "# Variational quantum eigensolver"
   ]
  },
  {
   "cell_type": "markdown",
   "id": "f8f817ef-f927-40ba-b6b6-b8ccfbad5894",
   "metadata": {},
   "source": [
    "In this problem we are building a variational quantum eigensolver (VQE) and use it to find the ground state of a qubit Hamiltonian."
   ]
  },
  {
   "cell_type": "code",
   "execution_count": 1,
   "id": "51dbcf6a-c1e6-4c71-b2f4-a8c2f7efd54e",
   "metadata": {
    "execution": {
     "iopub.execute_input": "2022-05-16T12:10:06.539551Z",
     "iopub.status.busy": "2022-05-16T12:10:06.539129Z",
     "iopub.status.idle": "2022-05-16T12:10:07.514140Z",
     "shell.execute_reply": "2022-05-16T12:10:07.513808Z",
     "shell.execute_reply.started": "2022-05-16T12:10:06.539485Z"
    },
    "tags": []
   },
   "outputs": [],
   "source": [
    "from qiskit import QuantumCircuit\n",
    "from qiskit.circuit import Parameter\n",
    "from qiskit.quantum_info import Statevector, SparsePauliOp, state_fidelity\n",
    "import numpy as np\n",
    "import numpy.random as npr\n",
    "import numpy.linalg as linalg\n",
    "import matplotlib.pyplot as plt"
   ]
  },
  {
   "cell_type": "markdown",
   "id": "b8a3852e-79e9-49d9-99cf-177ba24338a8",
   "metadata": {},
   "source": [
    "## Hamiltonian\n",
    "\n",
    "We will now work with a two qubit"
   ]
  },
  {
   "cell_type": "code",
   "execution_count": 2,
   "id": "6d3f1055-8e4b-41d8-8e25-aa276fc5e003",
   "metadata": {
    "execution": {
     "iopub.execute_input": "2022-05-16T12:10:07.514737Z",
     "iopub.status.busy": "2022-05-16T12:10:07.514651Z",
     "iopub.status.idle": "2022-05-16T12:10:07.517211Z",
     "shell.execute_reply": "2022-05-16T12:10:07.516864Z",
     "shell.execute_reply.started": "2022-05-16T12:10:07.514726Z"
    },
    "tags": []
   },
   "outputs": [],
   "source": [
    "n_qubits = 3\n",
    "H = SparsePauliOp.from_list([('ZXX', 1), ('XXZ', 0.5), ('YXY', 0.2)])"
   ]
  },
  {
   "cell_type": "markdown",
   "id": "e776532a-6f49-414e-a43d-1b26fbe13d2c",
   "metadata": {},
   "source": [
    "## Ansatz circuit\n",
    "\n",
    "Let's use a generic problem-agnostic ansatz circuit with $L$ ''layers''. The number of layers controls the flexibility of the ansatz: higher $L$ circuits can produce more quantum states."
   ]
  },
  {
   "cell_type": "code",
   "execution_count": 3,
   "id": "228e4622-c3d7-48a2-a913-ec7e22f24650",
   "metadata": {
    "execution": {
     "iopub.execute_input": "2022-05-16T12:10:08.596162Z",
     "iopub.status.busy": "2022-05-16T12:10:08.595894Z",
     "iopub.status.idle": "2022-05-16T12:10:08.600342Z",
     "shell.execute_reply": "2022-05-16T12:10:08.600025Z",
     "shell.execute_reply.started": "2022-05-16T12:10:08.596140Z"
    },
    "tags": []
   },
   "outputs": [],
   "source": [
    "def get_circuit(n, L):\n",
    "    circ = QuantumCircuit(n)\n",
    "    params = []\n",
    "    for i in range(n):\n",
    "        angle = Parameter(f'$x{i}0$')\n",
    "        params.append(angle)\n",
    "        circ.ry(angle, i)\n",
    "    for l in range(L):\n",
    "        for i in range(n):\n",
    "            circ.cx(i, np.mod(i+1, n))\n",
    "        circ.barrier()\n",
    "        for i in range(n):\n",
    "            angle = Parameter(f'$x{i}{l+1}$')\n",
    "            params.append(angle)\n",
    "            circ.ry(angle, i)\n",
    "    return params, circ"
   ]
  },
  {
   "cell_type": "code",
   "execution_count": 4,
   "id": "10f87041-5279-48aa-ad66-727c4f681b58",
   "metadata": {
    "execution": {
     "iopub.execute_input": "2022-05-16T12:10:08.767583Z",
     "iopub.status.busy": "2022-05-16T12:10:08.767157Z",
     "iopub.status.idle": "2022-05-16T12:10:09.455088Z",
     "shell.execute_reply": "2022-05-16T12:10:09.454842Z",
     "shell.execute_reply.started": "2022-05-16T12:10:08.767558Z"
    },
    "tags": []
   },
   "outputs": [
    {
     "data": {
      "image/png": "[encoded data removed]",
      "text/plain": [
       "<Figure size 628.397x204.68 with 1 Axes>"
      ]
     },
     "execution_count": 4,
     "metadata": {},
     "output_type": "execute_result"
    }
   ],
   "source": [
    "n_layers = 2\n",
    "params, circ = get_circuit(n_qubits, n_layers)\n",
    "n_params = len(params)\n",
    "circ.draw(plot_barriers=False)"
   ]
  },
  {
   "cell_type": "markdown",
   "id": "9dc7b960-0b7c-46b1-8fe6-dcca0f690069",
   "metadata": {},
   "source": [
    "## Energy computation\n",
    "\n",
    "In a real VQE we would use a quantum computer to estimate the energy $E(\\theta) = \\langle \\psi(\\theta) | H | \\psi(\\theta) \\rangle$ with a finite number of shots. This would produce some amount of shot noise in the energy estimation. For the purposes of this exercise we will simplify life by computing $E(\\theta)$ directly, thus removing any noise effects."
   ]
  },
  {
   "cell_type": "code",
   "execution_count": 5,
   "id": "d9686082-4c60-4880-b0ab-00f95d13dac2",
   "metadata": {
    "execution": {
     "iopub.execute_input": "2022-05-16T12:10:09.455743Z",
     "iopub.status.busy": "2022-05-16T12:10:09.455631Z",
     "iopub.status.idle": "2022-05-16T12:10:09.458445Z",
     "shell.execute_reply": "2022-05-16T12:10:09.458218Z",
     "shell.execute_reply.started": "2022-05-16T12:10:09.455730Z"
    },
    "tags": []
   },
   "outputs": [],
   "source": [
    "def energy(param_values):\n",
    "    '''\n",
    "    Computes the energy of `H` in the state produced by `circ`.\n",
    "    \n",
    "    Arguments:\n",
    "    param_values: an array of length `len(params)` representing circuit parameter values.\n",
    "\n",
    "    Returns:\n",
    "    The energy for the given `param_values` (float).\n",
    "    '''\n",
    "\n",
    "    if len(param_values) != len(params):\n",
    "        print('The length of param_values must be', len(params))\n",
    "        return\n",
    "\n",
    "    binds = {p: v for p, v in zip(params, param_values)}\n",
    "    state = Statevector.from_instruction(circ.bind_parameters(binds))\n",
    "    E = state.expectation_value(H).real\n",
    "    return E"
   ]
  },
  {
   "cell_type": "markdown",
   "id": "6356a9c8-1b65-46e1-a24a-25fba640cffd",
   "metadata": {},
   "source": [
    "Example usage:"
   ]
  },
  {
   "cell_type": "code",
   "execution_count": 6,
   "id": "97a3cf87-2f62-45e7-8bd1-020efa6bd6ad",
   "metadata": {
    "execution": {
     "iopub.execute_input": "2022-05-16T12:10:11.160388Z",
     "iopub.status.busy": "2022-05-16T12:10:11.160115Z",
     "iopub.status.idle": "2022-05-16T12:10:11.165290Z",
     "shell.execute_reply": "2022-05-16T12:10:11.164939Z",
     "shell.execute_reply.started": "2022-05-16T12:10:11.160375Z"
    },
    "tags": []
   },
   "outputs": [
    {
     "name": "stdout",
     "output_type": "stream",
     "text": [
      "Energy for parameter values [3.55374141 2.22210268 3.61505298 3.06733995 3.20859598 3.72049673\n",
      " 2.72508747 4.62553287 2.10698923] is -0.8049670568597753\n"
     ]
    }
   ],
   "source": [
    "test_values = npr.uniform(0, 2*np.pi, len(params))\n",
    "print('Energy for parameter values', test_values, 'is', energy(test_values))"
   ]
  },
  {
   "cell_type": "markdown",
   "id": "36c92554-2dab-4cd7-9f81-52b253fb6650",
   "metadata": {
    "tags": []
   },
   "source": [
    "## Gradient calculation\n",
    "\n",
    "In order to use gradient-based optimization methods such as gradient descent, we need to be able to find gradients of $E(\\theta)$ w.r.t. the parameters $\\theta$.\n",
    "\n",
    "Fill in the following function that implements the parameter-shift rule. You can use the `energy`-function in your implementation."
   ]
  },
  {
   "cell_type": "code",
   "execution_count": 7,
   "id": "d30d4bca-c2c6-4f0a-895c-093de6934c4a",
   "metadata": {
    "execution": {
     "iopub.execute_input": "2022-05-16T12:10:11.882570Z",
     "iopub.status.busy": "2022-05-16T12:10:11.882347Z",
     "iopub.status.idle": "2022-05-16T12:10:11.887183Z",
     "shell.execute_reply": "2022-05-16T12:10:11.886819Z",
     "shell.execute_reply.started": "2022-05-16T12:10:11.882548Z"
    },
    "tags": []
   },
   "outputs": [],
   "source": [
    "def gradient(param_values):\n",
    "    '''\n",
    "    Computes the gradient of the energy w.r.t. the parameters.\n",
    "    \n",
    "    Arguments:\n",
    "    param_values: an array of length `len(params)` representing circuit parameter values.\n",
    "    \n",
    "    Returns:\n",
    "    The components of the energy gradient (array).\n",
    "    '''\n",
    "\n",
    "    if len(param_values) != len(params):\n",
    "        print('The length of param_values must be', len(params))\n",
    "        return\n",
    "\n",
    "    grad = np.zeros(n_params)\n",
    "    for i in range(n_params):\n",
    "        shift = np.zeros(n_params)\n",
    "        shift[i] = np.pi/2\n",
    "        E1 = energy(param_values + shift)\n",
    "        E2 = energy(param_values - shift)\n",
    "        grad[i] = (E1 - E2)/2\n",
    "    return grad"
   ]
  },
  {
   "cell_type": "markdown",
   "id": "eb4e4d12-7a3a-4332-9004-cab6e975c666",
   "metadata": {},
   "source": [
    "## Optimization\n",
    "\n",
    "We will use a simple gradient descent algorithm for optimization. That is, we update the parameters\n",
    "$$\n",
    "\\theta \\leftarrow \\theta - \\epsilon \\nabla E(\\theta)\n",
    "$$\n",
    "until the energy $E(\\theta)$ reaches a minimum. The step size $\\epsilon$ is often called the ''learning rate''."
   ]
  },
  {
   "cell_type": "code",
   "execution_count": 8,
   "id": "954ec5fc-76f4-4343-878f-0b25ffbf85bf",
   "metadata": {
    "execution": {
     "iopub.execute_input": "2022-05-16T12:10:12.433805Z",
     "iopub.status.busy": "2022-05-16T12:10:12.433585Z",
     "iopub.status.idle": "2022-05-16T12:10:12.437488Z",
     "shell.execute_reply": "2022-05-16T12:10:12.437092Z",
     "shell.execute_reply.started": "2022-05-16T12:10:12.433782Z"
    },
    "tags": []
   },
   "outputs": [],
   "source": [
    "def gradient_descent(steps=100, lr=0.1):\n",
    "    x = npr.uniform(0, 2*np.pi, n_params)\n",
    "    ergs = [energy(x)]\n",
    "    for i in range(steps):\n",
    "        x -= lr*gradient(x)\n",
    "        ergs.append(energy(x))\n",
    "    return ergs, x"
   ]
  },
  {
   "cell_type": "markdown",
   "id": "eec2c30b-9a7c-47f3-8d4f-add6a0e951d1",
   "metadata": {},
   "source": [
    "## Results\n",
    "\n",
    "Now run the simple gradient descent algorithm. Can you find the ground state energy? If you have trouble with convergence in `gradient_descent` you might need to fiddle with `steps` and `lr`."
   ]
  },
  {
   "cell_type": "code",
   "execution_count": 11,
   "id": "ba51b55d-07b1-4a64-bf6c-f9aca6a21fb8",
   "metadata": {
    "execution": {
     "iopub.execute_input": "2022-05-16T12:10:19.985477Z",
     "iopub.status.busy": "2022-05-16T12:10:19.985122Z",
     "iopub.status.idle": "2022-05-16T12:10:22.481931Z",
     "shell.execute_reply": "2022-05-16T12:10:22.481607Z",
     "shell.execute_reply.started": "2022-05-16T12:10:19.985454Z"
    },
    "tags": []
   },
   "outputs": [
    {
     "name": "stdout",
     "output_type": "stream",
     "text": [
      "Final optimization energy is -1.6994267833006194\n"
     ]
    },
    {
     "data": {
      "image/png": "[encoded data removed]",
      "text/plain": [
       "<Figure size 432x288 with 1 Axes>"
      ]
     },
     "metadata": {
      "needs_background": "light"
     },
     "output_type": "display_data"
    }
   ],
   "source": [
    "ergs, final_values = gradient_descent(steps=100, lr=0.1)\n",
    "print('Final optimization energy is', ergs[-1])\n",
    "plt.plot(ergs)\n",
    "plt.xlabel('step')\n",
    "plt.ylabel('energy');"
   ]
  },
  {
   "cell_type": "markdown",
   "id": "ed531a75-a903-4917-80bb-527e20f4055f",
   "metadata": {},
   "source": [
    "How close did you get to the true ground state energy, which is"
   ]
  },
  {
   "cell_type": "code",
   "execution_count": 12,
   "id": "4796456d-d18f-4e3b-ae76-7630d5b3c81a",
   "metadata": {
    "execution": {
     "iopub.execute_input": "2022-05-16T12:10:22.482642Z",
     "iopub.status.busy": "2022-05-16T12:10:22.482526Z",
     "iopub.status.idle": "2022-05-16T12:10:22.488026Z",
     "shell.execute_reply": "2022-05-16T12:10:22.487780Z",
     "shell.execute_reply.started": "2022-05-16T12:10:22.482630Z"
    },
    "tags": []
   },
   "outputs": [
    {
     "name": "stdout",
     "output_type": "stream",
     "text": [
      "Ground state energy is -1.7\n",
      "Ground state is [-0.35355339+0.j -0.35355339+0.j  0.35355339+0.j  0.35355339+0.j\n",
      " -0.35355339+0.j  0.35355339+0.j  0.35355339+0.j -0.35355339+0.j]\n",
      "Fidelity of final state with ground state is 0.9985923363099428\n"
     ]
    }
   ],
   "source": [
    "eigenvalues, eigenvectors = linalg.eigh(H.to_matrix())\n",
    "print('Ground state energy is', eigenvalues[0])\n",
    "print('Ground state is', eigenvectors[:, 0])\n",
    "final_state_vector = Statevector.from_instruction(circ.bind_parameters({p: v for p, v in zip(params, final_values)})).data\n",
    "print('Fidelity of final state with ground state is', state_fidelity(final_state_vector, eigenvectors[:, 0]))"
   ]
  },
  {
   "cell_type": "code",
   "execution_count": null,
   "id": "50fc4e51-8fe9-4d97-8aa5-182157a5974c",
   "metadata": {},
   "outputs": [],
   "source": []
  }
 ],
 "metadata": {
  "kernelspec": {
   "display_name": "Python 3 (ipykernel)",
   "language": "python",
   "name": "python3"
  },
  "language_info": {
   "codemirror_mode": {
    "name": "ipython",
    "version": 3
   },
   "file_extension": ".py",
   "mimetype": "text/x-python",
   "name": "python",
   "nbconvert_exporter": "python",
   "pygments_lexer": "ipython3",
   "version": "3.9.9"
  }
 },
 "nbformat": 4,
 "nbformat_minor": 5
}
